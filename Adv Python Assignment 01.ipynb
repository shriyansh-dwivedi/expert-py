{
 "cells": [
  {
   "cell_type": "code",
   "execution_count": 1,
   "id": "ac5fff2e-00ae-40d2-a72b-a9c24122ffd9",
   "metadata": {},
   "outputs": [],
   "source": [
    "# Create a car class with attribute like six brands and six modals then create an instance of this class."
   ]
  },
  {
   "cell_type": "code",
   "execution_count": 2,
   "id": "acf0eff9-5333-4961-b216-94aa17833777",
   "metadata": {},
   "outputs": [
    {
     "name": "stdout",
     "output_type": "stream",
     "text": [
      "Toyota Fortuner\n",
      "Tata Safari\n",
      "Mahindra Thar\n",
      "MG Gloster\n",
      "Kia Karnival\n",
      "Ford Figo\n"
     ]
    }
   ],
   "source": [
    "class Cars:\n",
    "    def __init__(self,brand,model_name):\n",
    "        self.brand = brand\n",
    "        self.model_name = model_name\n",
    "\n",
    "c1 = Cars('Toyota','Fortuner')\n",
    "print(c1.brand,c1.model_name)\n",
    "c2 = Cars('Tata','Safari')\n",
    "print(c2.brand,c2.model_name)\n",
    "c3 = Cars('Mahindra','Thar')\n",
    "print(c3.brand,c3.model_name)\n",
    "c4 = Cars('MG','Gloster')\n",
    "print(c4.brand,c4.model_name)\n",
    "c5 = Cars('Kia','Karnival')\n",
    "print(c5.brand,c5.model_name)\n",
    "c6 = Cars('Ford','Figo')\n",
    "print(c6.brand,c6.model_name)"
   ]
  },
  {
   "cell_type": "code",
   "execution_count": null,
   "id": "368f84e7-b911-45fd-b324-06f4d9a6eaa1",
   "metadata": {},
   "outputs": [],
   "source": []
  },
  {
   "cell_type": "code",
   "execution_count": 16,
   "id": "e05843a1-7de4-488f-9a3a-e6775bcf545f",
   "metadata": {},
   "outputs": [
    {
     "name": "stdout",
     "output_type": "stream",
     "text": [
      "MG ZS 75kwh\n",
      "Mahindra Thar 45L\n",
      "Tata Safari 50L\n",
      "Tata Altroz 45L\n",
      "Kia Seltos 47L\n",
      "Tata Curve 80kwh\n",
      "Mahindra XUV 300 70kwh\n"
     ]
    }
   ],
   "source": [
    "# Inhertance\n",
    "class Cars:\n",
    "    def __init__(self,brand,model_name):\n",
    "        self.brand = brand\n",
    "        self.model_name = model_name\n",
    "\n",
    "class ElectricCar(Cars):  # Child class\n",
    "    def __init__(self,brand,model_name,battery_size):\n",
    "        super().__init__ (brand, model_name)\n",
    "        self.battery_size = battery_size\n",
    "\n",
    "class PatrolCar(Cars):\n",
    "    def __init__(self,brand,model_name,fuel_tank_size):\n",
    "        super().__init__ (brand, model_name)\n",
    "        self.fuel_tank_size = fuel_tank_size\n",
    "\n",
    "class DiselCar(Cars):\n",
    "    def __init__(self,brand,model_name,fuel_tank_size):\n",
    "        super().__init__ (brand, model_name)\n",
    "        self.fuel_tank_size = fuel_tank_size\n",
    "\n",
    "c1 = ElectricCar('MG','ZS','75kwh')\n",
    "print(c1.brand,c1.model_name,c1.battery_size)\n",
    "c2 = PatrolCar('Mahindra','Thar','45L')\n",
    "print(c2.brand,c2.model_name,c2.fuel_tank_size)\n",
    "c3 = DiselCar('Tata','Safari','50L')\n",
    "print(c3.brand,c3.model_name,c3.fuel_tank_size)\n",
    "c4 = PatrolCar('Tata','Altroz','45L')\n",
    "print(c4.brand,c4.model_name,c4.fuel_tank_size)\n",
    "c5 = DiselCar('Kia','Seltos','47L')\n",
    "print(c5.brand,c5.model_name,c5.fuel_tank_size)\n",
    "c6 = ElectricCar('Tata','Curve','80kwh')\n",
    "print(c6.brand,c6.model_name,c6.battery_size)\n",
    "c7 = ElectricCar('Mahindra','XUV 300','70kwh')\n",
    "print(c7.brand,c7.model_name,c7.battery_size)"
   ]
  },
  {
   "cell_type": "code",
   "execution_count": 2,
   "id": "0e8bba27-7320-4f72-a967-0b049a4fbd84",
   "metadata": {},
   "outputs": [
    {
     "name": "stdout",
     "output_type": "stream",
     "text": [
      "MG ZS 75kwh\n",
      "Mahindra XUV 300 70kwh\n",
      "Tata Altroz EV 80kwh\n",
      "Mahindra XUV 400 65kwh\n",
      "Tata Nexon EV 66kwh\n"
     ]
    }
   ],
   "source": [
    "# 1. Create an Electric Car class that inherits from the Car class and has an additional attribute battery_size.\n",
    "class Cars:\n",
    "    def __init__(self,brand,model_name,battery_size):\n",
    "        self.brand = brand\n",
    "        self.model_name = model_name\n",
    "        self.battery_size = battery_size\n",
    "\n",
    "c1 = Cars('MG','ZS','75kwh')\n",
    "print(c1.brand,c1.model_name,c1.battery_size)\n",
    "c2 = Cars('Mahindra','XUV 300','70kwh')\n",
    "print(c2.brand,c2.model_name,c2.battery_size)\n",
    "c3 = Cars('Tata','Altroz EV','80kwh')\n",
    "print(c3.brand,c3.model_name,c3.battery_size)\n",
    "c4 = Cars('Mahindra','XUV 400','65kwh')\n",
    "print(c4.brand,c4.model_name,c4.battery_size)\n",
    "c5 = Cars('Tata','Nexon EV','66kwh')\n",
    "print(c5.brand,c5.model_name,c5.battery_size)\n"
   ]
  },
  {
   "cell_type": "code",
   "execution_count": 8,
   "id": "118d1985-4918-422d-b209-d4c9fc68c489",
   "metadata": {},
   "outputs": [
    {
     "name": "stdout",
     "output_type": "stream",
     "text": [
      "Dell Ispiron 3h\n",
      "ASUS Vivobook 5h\n",
      "ACER Aspire 4k\n",
      "Lenovo IdeaPad 5h\n",
      "Samsung Galaxy Book4 10h\n"
     ]
    }
   ],
   "source": [
    "# 2. Create a Laptop class that inherits from a Computer class and includes an additional attribute battery_life.\n",
    "class Laptop:\n",
    "    def __init__(self,brand,model,battery_life):\n",
    "        self.brand = brand\n",
    "        self.model = model\n",
    "        self.battery_life = battery_life\n",
    "\n",
    "l1 = Laptop('Dell','Ispiron','3h')\n",
    "print(l1.brand,l1.model,l1.battery_life)\n",
    "l2 = Laptop('ASUS','Vivobook','5h')\n",
    "print(l2.brand,l2.model,l2.battery_life)\n",
    "l3 = Laptop('ACER','Aspire','4k')\n",
    "print(l3.brand,l3.model,l3.battery_life)\n",
    "l4 = Laptop('Lenovo','IdeaPad','5h')\n",
    "print(l4.brand,l4.model,l4.battery_life)\n",
    "l5 = Laptop('Samsung','Galaxy Book4','10h')\n",
    "print(l5.brand,l5.model,l5.battery_life)"
   ]
  },
  {
   "cell_type": "code",
   "execution_count": 23,
   "id": "8da0b041-19ed-444b-b8ec-0c07816c78e0",
   "metadata": {},
   "outputs": [
    {
     "name": "stdout",
     "output_type": "stream",
     "text": [
      "OnePlus 13R Super Amoled\n",
      "Realme 11 5G\n",
      "Redmi Note 8 4G\n",
      "Samsung Galaxy S24 Super Amoled\n",
      "OnePlus Nord CE3 Full HD\n"
     ]
    }
   ],
   "source": [
    "# 3. Define a Smartphone class and add another child class of your choice that inherits from an Electronic Device class and \n",
    "#includes an addiitional attribute\n",
    "class Smartphone:\n",
    "    def __init__(self,brand,model):\n",
    "        self.brand = brand\n",
    "        self.model = model\n",
    "\n",
    "class Display(Smartphone):\n",
    "    def __init__(self,brand,model,display_quality):\n",
    "        super(). __init__ (brand,model)\n",
    "        self.display_quality = display_quality\n",
    "\n",
    "class Generation(Smartphone):\n",
    "    def __init__(self,brand,model,gen):\n",
    "        super(). __init__ (brand,model)\n",
    "        self.gen = gen\n",
    "\n",
    "p1 = Display('OnePlus','13R','Super Amoled')\n",
    "print(p1.brand,p1.model,p1.display_quality)\n",
    "p2 = Generation('Realme','11','5G')\n",
    "print(p2.brand,p2.model,p2.gen)\n",
    "p3 = Generation('Redmi','Note 8','4G')\n",
    "print(p3.brand,p3.model,p3.gen)\n",
    "p4 = Display('Samsung','Galaxy S24','Super Amoled',)\n",
    "print(p4.brand,p4.model,p4.display_quality,)\n",
    "p5 = Display('OnePlus','Nord CE3','Full HD')\n",
    "print(p5.brand,p5.model,p5.display_quality)"
   ]
  },
  {
   "cell_type": "code",
   "execution_count": 2,
   "id": "6984eaa8-7ba1-4792-a22a-52f6af5b6c7e",
   "metadata": {},
   "outputs": [
    {
     "name": "stdout",
     "output_type": "stream",
     "text": [
      "Rohan 20 Tabla\n",
      "Sumit 25 Harmonium\n",
      "Hariom 22 Sitar\n",
      "Anjali 19 Tabla\n",
      "Ram 23 Sitar\n",
      "Shikha 25 Harmonium\n"
     ]
    }
   ],
   "source": [
    "# 4. Implement a Musical class and create another child class of your choice that extends an Artist class.\n",
    "# Include that extends an additional attribute, instument_played.\n",
    "\n",
    "class Music_class:\n",
    "    def __init__(self,name,age):\n",
    "        self.name = name\n",
    "        self.age = age\n",
    "\n",
    "class Table_class(Music_class):\n",
    "    def __init__(self,name,age,instument_played):\n",
    "        super().__init__(name,age)\n",
    "        self.instument_played = instument_played\n",
    "\n",
    "class Harmonium(Music_class):\n",
    "    def __init__(self,name,age,instument_played):\n",
    "        super().__init__(name,age)\n",
    "        self.instument_played = instument_played\n",
    "\n",
    "class Sitar(Music_class):\n",
    "    def __init__(self,name,age,instument_played):\n",
    "        super().__init__(name,age)\n",
    "        self.instument_played = instument_played\n",
    "\n",
    "m1 = Table_class('Rohan',20,'Tabla')\n",
    "print(m1.name,m1.age,m1.instument_played)\n",
    "m2 = Harmonium('Sumit',25,'Harmonium')\n",
    "print(m2.name,m2.age,m2.instument_played)\n",
    "m3 = Sitar('Hariom',22,'Sitar')\n",
    "print(m3.name,m3.age,m3.instument_played)\n",
    "m4 = Table_class('Anjali',19,'Tabla')\n",
    "print(m4.name,m4.age,m4.instument_played)\n",
    "m5 = Sitar('Ram',23,'Sitar')\n",
    "print(m5.name,m5.age,m5.instument_played)\n",
    "m6 = Harmonium('Shikha',25,'Harmonium')\n",
    "print(m6.name,m6.age,m6.instument_played)"
   ]
  },
  {
   "cell_type": "code",
   "execution_count": 3,
   "id": "2758c9e6-68b4-4d59-ae69-d9fac20ecf47",
   "metadata": {},
   "outputs": [
    {
     "name": "stdout",
     "output_type": "stream",
     "text": [
      "SPY*FAMILY1 Tatsuya Endo silice-of-life\n"
     ]
    }
   ],
   "source": [
    "# Define a FictionBook class and add another child class of your choice that inherits from tha Book class.\n",
    "# Include an additional attribute genre\n",
    "\n",
    "class Fictionbooks:\n",
    "    def __init__(self,writer,name):\n",
    "        self.writer = writer\n",
    "        self.name = name\n",
    "\n",
    "class Books(Fictionbooks):\n",
    "    def __init__(self,writer,name,genre):\n",
    "        super().__init__(writer,name)\n",
    "        self.genre = genre\n",
    "\n",
    "b1 = Books('SPY*FAMILY1','Tatsuya Endo','silice-of-life')\n",
    "print(b1.writer,b1.name,b1.genre)"
   ]
  },
  {
   "cell_type": "code",
   "execution_count": null,
   "id": "928bf2bd-1a1e-49ac-8a49-6ac78d479934",
   "metadata": {},
   "outputs": [],
   "source": []
  }
 ],
 "metadata": {
  "kernelspec": {
   "display_name": "Python 3 (ipykernel)",
   "language": "python",
   "name": "python3"
  },
  "language_info": {
   "codemirror_mode": {
    "name": "ipython",
    "version": 3
   },
   "file_extension": ".py",
   "mimetype": "text/x-python",
   "name": "python",
   "nbconvert_exporter": "python",
   "pygments_lexer": "ipython3",
   "version": "3.12.4"
  }
 },
 "nbformat": 4,
 "nbformat_minor": 5
}
