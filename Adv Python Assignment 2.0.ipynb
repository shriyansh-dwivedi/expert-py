{
 "cells": [
  {
   "cell_type": "code",
   "execution_count": 10,
   "id": "2d9927b8-4f0f-47f1-8877-4c7adbb136a8",
   "metadata": {},
   "outputs": [
    {
     "name": "stdout",
     "output_type": "stream",
     "text": [
      "Get price is 63000\n",
      "Get price is 75000\n",
      "Get price is 57000\n",
      "Get price is 68000\n",
      "Get price is 40000\n"
     ]
    }
   ],
   "source": [
    "# Que 1. Create class with a private price. Implement a method set_price (new price) to update the price and get price() to retrieve the price.\n",
    "\n",
    "class Laptop:\n",
    "    def __init__(self,price):\n",
    "        self.price = price\n",
    "\n",
    "class Set(Laptop):\n",
    "    def __init__(self,price,get_price):\n",
    "        super().__init__(price)\n",
    "        self.get_price = get_price\n",
    "    def info(self):\n",
    "        print(f'Get price is {self.price}')\n",
    "    def Get(self):\n",
    "        print(f'Get price is {self.get_price}')\n",
    "\n",
    "l = Set(70000,63000)\n",
    "l2 = Set(50000,75000)\n",
    "l3 = Set(45000,57000)\n",
    "l4 = Set(55000,68000)\n",
    "l5 = Set(60000,40000)\n",
    "l.Get()\n",
    "l2.Get()\n",
    "l3.Get()\n",
    "l4.Get()\n",
    "l5.Get()"
   ]
  },
  {
   "cell_type": "code",
   "execution_count": 7,
   "id": "964c6b69-13bc-4378-9c42-f64700b2fc2d",
   "metadata": {},
   "outputs": [
    {
     "name": "stdout",
     "output_type": "stream",
     "text": [
      "Depositing amount is 15000\n",
      "Withdraw amount is 15000\n",
      "Remaining balance is 68000\n"
     ]
    }
   ],
   "source": [
    "# Que 2. Create a bank account class with a private attribute balance. Implement methods to deposit withdraw and check balance while ensuring \n",
    "# the balance cannot modified directly \n",
    "class BankAccount:\n",
    "    def __init__(self,balance):\n",
    "        self.balance = balance\n",
    "\n",
    "class New(BankAccount):\n",
    "    def __init__(self,balance,withdraw,deposit):\n",
    "        super().__init__(balance)\n",
    "        self.withdraw = withdraw\n",
    "        self.deposit = deposit\n",
    "    def check(self):\n",
    "        print(f'Remaining balance is {self.balance+self.deposit-self.withdraw}')\n",
    "    def take(self):\n",
    "        print(f'Withdraw amount is {self.withdraw}')\n",
    "    def insert(self):\n",
    "        print(f'Depositing amount is {self.deposit}')\n",
    "\n",
    "a = New(100000,20000,15000)\n",
    "b = New(80000,15000,10000)\n",
    "c = New(70000,10000,8000)\n",
    "a.insert()\n",
    "b.take()\n",
    "c.check()"
   ]
  },
  {
   "cell_type": "code",
   "execution_count": 31,
   "id": "73e12612-73dd-4d33-b0d4-64c02efb1190",
   "metadata": {},
   "outputs": [
    {
     "name": "stdout",
     "output_type": "stream",
     "text": [
      "The movie rating is\n"
     ]
    },
    {
     "data": {
      "text/plain": [
       "9"
      ]
     },
     "execution_count": 31,
     "metadata": {},
     "output_type": "execute_result"
    }
   ],
   "source": [
    "# Que 3. Create a Movie class with a private attribute rating. Implement methods to set and get the rating. ensuring the rating is between 1 and 10.\n",
    "class Movie:\n",
    "    def __init__(self,title):\n",
    "        self.title = title\n",
    "        self.__rating = None\n",
    "    def set_rating(self,rating):\n",
    "        print(f'The movie rating is')\n",
    "        if 1 <= rating <= 10:\n",
    "            self.__rating = rating\n",
    "        else:\n",
    "            raise\n",
    "    def get_rating(self):\n",
    "        return self.__rating\n",
    "\n",
    "a = Movie(\"The Shawshank Redemption\")\n",
    "a.set_rating(9)\n",
    "a.get_rating()"
   ]
  },
  {
   "cell_type": "code",
   "execution_count": 38,
   "id": "62f0ab46-b897-44bd-8ac5-e946cf7acbc6",
   "metadata": {},
   "outputs": [
    {
     "data": {
      "text/plain": [
       "'To Kill a Mockingbird'"
      ]
     },
     "execution_count": 38,
     "metadata": {},
     "output_type": "execute_result"
    }
   ],
   "source": [
    "# Que 4. Create a Book class with private attrubute title and author Implement a constructor to set these values and provide methods to retrieve them.\n",
    "class Book:\n",
    "    def __init__(self,title,author):\n",
    "        self.__title = title\n",
    "        self.__author = author\n",
    "    def get_title(self):\n",
    "        return self.__title\n",
    "    def get_author(self):\n",
    "        return self.__author\n",
    "    def set_title(self,title):\n",
    "        self.__title = title\n",
    "    def set_author(self,author):\n",
    "        self.__author = author\n",
    "\n",
    "a = Book('To Kill a Mockingbird','Harper Lee')\n",
    "a.get_title()"
   ]
  },
  {
   "cell_type": "code",
   "execution_count": null,
   "id": "5f178cec-475a-4caa-9932-7893c0bbdc84",
   "metadata": {},
   "outputs": [],
   "source": []
  }
 ],
 "metadata": {
  "kernelspec": {
   "display_name": "Python 3 (ipykernel)",
   "language": "python",
   "name": "python3"
  },
  "language_info": {
   "codemirror_mode": {
    "name": "ipython",
    "version": 3
   },
   "file_extension": ".py",
   "mimetype": "text/x-python",
   "name": "python",
   "nbconvert_exporter": "python",
   "pygments_lexer": "ipython3",
   "version": "3.12.4"
  }
 },
 "nbformat": 4,
 "nbformat_minor": 5
}
