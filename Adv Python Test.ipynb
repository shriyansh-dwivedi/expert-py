{
 "cells": [
  {
   "cell_type": "markdown",
   "id": "c5dadfc6-d6ba-486d-8725-5dae7f41aa76",
   "metadata": {},
   "source": [
    "Que: Create an ElectricCar class that inherits from the Car class and includes an additional attribute, battery_size."
   ]
  },
  {
   "cell_type": "code",
   "execution_count": 6,
   "id": "65a494cc-0681-4ccc-8858-7a6a892ffa89",
   "metadata": {},
   "outputs": [
    {
     "name": "stdout",
     "output_type": "stream",
     "text": [
      "Mahindra XUV300 60kwh\n",
      "Tata Nexon ev 65kwh\n",
      "Toyota Fortuner ev 80kwh\n"
     ]
    }
   ],
   "source": [
    "class ElectricCar:\n",
    "    def __init__(self,brand,model,battery):\n",
    "        self.brand = brand\n",
    "        self.model = model\n",
    "        self.battery = battery\n",
    "\n",
    "E1 = ElectricCar('Mahindra','XUV300','60kwh')\n",
    "print(E1.brand,E1.model,E1.battery)\n",
    "E2 = ElectricCar('Tata','Nexon ev','65kwh')\n",
    "print(E2.brand,E2.model,E2.battery)\n",
    "E3 = ElectricCar('Toyota','Fortuner ev','80kwh')\n",
    "print(E3.brand,E3.model,E3.battery)"
   ]
  },
  {
   "cell_type": "markdown",
   "id": "6a21b4fc-ff5f-4a3c-8539-587aab3f52d5",
   "metadata": {},
   "source": [
    "Que: Create a Book class with private attributes __title and __author. Implement a constructor to set these values and provide methods to retrieve them.\n"
   ]
  },
  {
   "cell_type": "code",
   "execution_count": 11,
   "id": "6f9ec9e3-dd06-47c0-80b6-e5a20bd8b0b0",
   "metadata": {},
   "outputs": [
    {
     "data": {
      "text/plain": [
       "'Pride and Prejudice'"
      ]
     },
     "execution_count": 11,
     "metadata": {},
     "output_type": "execute_result"
    }
   ],
   "source": [
    "class Book:\n",
    "    def __init__(self,title,author):\n",
    "        self.__title = title\n",
    "        self.__author = author\n",
    "    def get_title(self):\n",
    "        return self.__title\n",
    "    def get_author(self):\n",
    "        return self.__author\n",
    "    def set_title(self,title):\n",
    "        self.__title = title\n",
    "    def set_author(self,author):\n",
    "        self.__author = author\n",
    "\n",
    "a = Book('Pride and Prejudice','Jane Austen')\n",
    "a.get_title()"
   ]
  },
  {
   "cell_type": "markdown",
   "id": "e1082575-fe33-4e4e-add0-a3c52c727f51",
   "metadata": {},
   "source": [
    "Que: Write a Python program to demonstrate polymorphism where two different classes have the same method name, and a common function calls those methods.\n"
   ]
  },
  {
   "cell_type": "code",
   "execution_count": 2,
   "id": "87490419-ce38-4aa6-8fcd-e0422fd24317",
   "metadata": {},
   "outputs": [
    {
     "name": "stdout",
     "output_type": "stream",
     "text": [
      "Mahindra Thar\n",
      "Toyota Fortuner\n"
     ]
    }
   ],
   "source": [
    "class Car:\n",
    "    def type(self):\n",
    "        print('Mahindra Thar')\n",
    "\n",
    "class Same(Car):\n",
    "    def type(self):\n",
    "        print('Toyota Fortuner')\n",
    "\n",
    "a = Car()\n",
    "b = Same()\n",
    "a.type()\n",
    "b.type()"
   ]
  },
  {
   "cell_type": "markdown",
   "id": "bb873681-b807-4b01-a1ce-8bfff3058657",
   "metadata": {},
   "source": [
    "Que: Define an abstract class Animal with an abstract method make_sound(). Then create two subclass Dog and Cat, each implementing make_sound Differently "
   ]
  },
  {
   "cell_type": "code",
   "execution_count": 3,
   "id": "41997d83-fddd-4348-9fa9-1adf226fb94c",
   "metadata": {},
   "outputs": [
    {
     "name": "stdout",
     "output_type": "stream",
     "text": [
      "Bark\n"
     ]
    }
   ],
   "source": [
    "from abc import ABC, abstractmethod\n",
    "class Animal(ABC):\n",
    "    @abstractmethod\n",
    "    def make_sound(self):\n",
    "        pass\n",
    "\n",
    "class Dog(Animal):\n",
    "    def make_sound(self):\n",
    "        print('Bark')\n",
    "\n",
    "class Cat(Animal):\n",
    "    def make_sound(self):\n",
    "        print('Meow')\n",
    "\n",
    "cat = Cat()\n",
    "dog = Dog()\n",
    "dog.make_sound()"
   ]
  },
  {
   "cell_type": "markdown",
   "id": "3050125c-ee68-4057-b89f-40b69a77aefe",
   "metadata": {},
   "source": [
    "Que: How do you use a For loop to iterate over an iterator ['a','b','c']"
   ]
  },
  {
   "cell_type": "code",
   "execution_count": 4,
   "id": "1317d6e6-8fe2-44af-8a94-f1e58e725250",
   "metadata": {},
   "outputs": [
    {
     "name": "stdout",
     "output_type": "stream",
     "text": [
      "a\n",
      "b\n",
      "c\n"
     ]
    }
   ],
   "source": [
    "letters = ['a','b','c']\n",
    "for letter in letters:\n",
    "    print(letter)"
   ]
  },
  {
   "cell_type": "markdown",
   "id": "cfbe04bd-11c1-444f-982d-23c7903c4807",
   "metadata": {},
   "source": [
    "Que: Write a program to iterate over a list using an iterator and a while loop. [10,20,30,40]"
   ]
  },
  {
   "cell_type": "code",
   "execution_count": 5,
   "id": "01276888-7c42-42db-aecb-398e7b95d8ad",
   "metadata": {},
   "outputs": [
    {
     "name": "stdout",
     "output_type": "stream",
     "text": [
      "10\n",
      "20\n",
      "30\n",
      "40\n"
     ]
    }
   ],
   "source": [
    "numbers = [10,20,30,40]\n",
    "iterator = iter(numbers)\n",
    "while True:\n",
    "    try:\n",
    "        print(next(iterator))\n",
    "    except StopIteration:\n",
    "        break"
   ]
  },
  {
   "cell_type": "code",
   "execution_count": null,
   "id": "56795668-c08e-4a2f-a494-bbbbcf806598",
   "metadata": {},
   "outputs": [],
   "source": []
  }
 ],
 "metadata": {
  "kernelspec": {
   "display_name": "Python 3 (ipykernel)",
   "language": "python",
   "name": "python3"
  },
  "language_info": {
   "codemirror_mode": {
    "name": "ipython",
    "version": 3
   },
   "file_extension": ".py",
   "mimetype": "text/x-python",
   "name": "python",
   "nbconvert_exporter": "python",
   "pygments_lexer": "ipython3",
   "version": "3.12.4"
  }
 },
 "nbformat": 4,
 "nbformat_minor": 5
}
